{
  "nbformat": 4,
  "nbformat_minor": 0,
  "metadata": {
    "colab": {
      "provenance": [],
      "gpuType": "T4",
      "include_colab_link": true
    },
    "kernelspec": {
      "name": "python3",
      "display_name": "Python 3"
    },
    "language_info": {
      "name": "python"
    },
    "accelerator": "GPU"
  },
  "cells": [
    {
      "cell_type": "markdown",
      "metadata": {
        "id": "view-in-github",
        "colab_type": "text"
      },
      "source": [
        "<a href=\"https://colab.research.google.com/github/YWCH890516/NTHU_2024_DLBOI_HW-HW4/blob/main/_HW4_hw4_report.ipynb\" target=\"_parent\"><img src=\"https://colab.research.google.com/assets/colab-badge.svg\" alt=\"Open In Colab\"/></a>"
      ]
    },
    {
      "cell_type": "markdown",
      "source": [
        "# **Import Library**"
      ],
      "metadata": {
        "id": "4AZ18Ku5IuMw"
      }
    },
    {
      "cell_type": "code",
      "execution_count": 25,
      "metadata": {
        "id": "dSpedn1qFs7G"
      },
      "outputs": [],
      "source": [
        "import numpy as np\n",
        "import pandas as pd\n",
        "import random\n",
        "import matplotlib.pyplot as plt\n",
        "import torchvision.models as models\n",
        "import torch.nn as nn\n",
        "import torch.optim as optim\n",
        "import torch\n",
        "import time\n",
        "\n",
        "from torch.utils.data import DataLoader\n",
        "from torchvision import datasets, transforms\n",
        "from torchvision.transforms.functional import InterpolationMode\n",
        "from sklearn.metrics import accuracy_score\n"
      ]
    },
    {
      "cell_type": "code",
      "source": [
        "device = torch.device(\"cuda\" if torch.cuda.is_available() else \"cpu\")\n",
        "gpu_count = torch.cuda.device_count()\n",
        "\n",
        "print(\"Using\", gpu_count, \"GPUs\")\n",
        "print(\"CUDA is available:\", torch.cuda.is_available())"
      ],
      "metadata": {
        "colab": {
          "base_uri": "https://localhost:8080/"
        },
        "id": "t-RZgj8pKGmy",
        "outputId": "a1952bb0-83e2-42c1-c6cd-fadd1bafaa63"
      },
      "execution_count": 26,
      "outputs": [
        {
          "output_type": "stream",
          "name": "stdout",
          "text": [
            "Using 1 GPUs\n",
            "CUDA is available: True\n"
          ]
        }
      ]
    },
    {
      "cell_type": "markdown",
      "source": [
        "# **Data Prepartion**"
      ],
      "metadata": {
        "id": "SPTvamT9MEke"
      }
    },
    {
      "cell_type": "code",
      "source": [
        "from google.colab import drive\n",
        "drive.mount('/content/drive')"
      ],
      "metadata": {
        "colab": {
          "base_uri": "https://localhost:8080/"
        },
        "id": "Xk0aIlbFMKzw",
        "outputId": "2faa24b6-0c34-46f7-b58a-3f50c2ff1598"
      },
      "execution_count": 27,
      "outputs": [
        {
          "output_type": "stream",
          "name": "stdout",
          "text": [
            "Drive already mounted at /content/drive; to attempt to forcibly remount, call drive.mount(\"/content/drive\", force_remount=True).\n"
          ]
        }
      ]
    },
    {
      "cell_type": "code",
      "source": [
        "# define folder path for each set\n",
        "train_path = '/content/drive/MyDrive/NTHU/DLBOI/HW3/train'\n",
        "test_path = '/content/drive/MyDrive/NTHU/DLBOI/HW3/test'\n",
        "val_path = '/content/drive/MyDrive/NTHU/DLBOI/HW3/val'\n",
        "\n",
        "# define transformation\n",
        "train_transform = transforms.Compose([\n",
        "    transforms.Resize((256, 256), interpolation=InterpolationMode.BICUBIC),\n",
        "    transforms.Grayscale(num_output_channels=3),\n",
        "    transforms.ToTensor(),\n",
        "])\n",
        "\n",
        "common_transform = transforms.Compose([\n",
        "    transforms.Resize((256, 256), interpolation=InterpolationMode.BICUBIC),\n",
        "    transforms.Grayscale(num_output_channels=3),\n",
        "    transforms.ToTensor(),\n",
        "])\n",
        "\n",
        "# create datasets\n",
        "train_dataset = datasets.ImageFolder(train_path, transform=train_transform)\n",
        "test_dataset = datasets.ImageFolder(test_path, transform=common_transform)\n",
        "val_dataset = datasets.ImageFolder(val_path, transform=common_transform)\n",
        "\n",
        "# create dataloaders\n",
        "train_loader = DataLoader(train_dataset, batch_size=64, shuffle=True)\n",
        "val_loader = DataLoader(val_dataset, batch_size=64, shuffle=False)\n",
        "test_loader = DataLoader(test_dataset, batch_size=64, shuffle=False)"
      ],
      "metadata": {
        "id": "HFdUclLRPfqs"
      },
      "execution_count": 28,
      "outputs": []
    },
    {
      "cell_type": "markdown",
      "source": [
        "# **Model**"
      ],
      "metadata": {
        "id": "3GtP72kbQQPL"
      }
    },
    {
      "cell_type": "code",
      "source": [
        "'''\n",
        "# VGG\n",
        "model = models.resnext50_32x4d(pretrained=True)\n",
        "num_features = model.fc.in_features\n",
        "model.fc = nn.Linear(num_features, 2)\n",
        "model = model.to(device)\n",
        "'''\n",
        "'''\n",
        "model = models.vgg19(pretrained = True)\n",
        "for param in model.features.parameters():\n",
        "    param.requires_grad = False\n",
        "\n",
        "for param in model.classifier.parameters():\n",
        "    param.requires_grad = True\n",
        "'''\n",
        "'''\n",
        "model = models.vgg19(pretrained=True)\n",
        "for param in model.parameters():\n",
        "    param.requires_grad = False\n",
        "for param in model.classifier[6].parameters():\n",
        "    param.requires_grad = True\n",
        "\n",
        "\n",
        "model.classifier[6] = nn.Linear(model.classifier[6].in_features, 2)\n",
        "model = model.to(device)\n",
        "'''\n",
        "'''\n",
        "# ResNeXt\n",
        "model = models.resnext50_32x4d(pretrained=True)\n",
        "\n",
        "for name, param in model.named_parameters():\n",
        "    if \"layer4\" not in name: # Freeze all layers except layer4 and the fc layer\n",
        "        param.requires_grad = False\n",
        "\n",
        "\n",
        "\n",
        "model.fc = nn.Linear(model.fc.in_features, 2)\n",
        "model = model.to(device)\n",
        "'''\n",
        "\n",
        "model = models.resnext50_32x4d(pretrained=True)\n",
        "for param in model.parameters():\n",
        "    param.requires_grad = False\n",
        "\n",
        "for param in model.fc.parameters():\n",
        "    param.requires_grad = True\n",
        "\n",
        "model.fc = nn.Linear(model.fc.in_features, 2)\n",
        "model = model.to(device)"
      ],
      "metadata": {
        "id": "3gTraj3bQPtA",
        "colab": {
          "base_uri": "https://localhost:8080/"
        },
        "outputId": "33207294-5a7c-4956-e59a-1f9ba8c20b2d"
      },
      "execution_count": 29,
      "outputs": [
        {
          "output_type": "stream",
          "name": "stderr",
          "text": [
            "/usr/local/lib/python3.10/dist-packages/torchvision/models/_utils.py:208: UserWarning: The parameter 'pretrained' is deprecated since 0.13 and may be removed in the future, please use 'weights' instead.\n",
            "  warnings.warn(\n",
            "/usr/local/lib/python3.10/dist-packages/torchvision/models/_utils.py:223: UserWarning: Arguments other than a weight enum or `None` for 'weights' are deprecated since 0.13 and may be removed in the future. The current behavior is equivalent to passing `weights=ResNeXt50_32X4D_Weights.IMAGENET1K_V1`. You can also use `weights=ResNeXt50_32X4D_Weights.DEFAULT` to get the most up-to-date weights.\n",
            "  warnings.warn(msg)\n"
          ]
        }
      ]
    },
    {
      "cell_type": "markdown",
      "source": [
        "# **Define Function to train and predict**"
      ],
      "metadata": {
        "id": "UcDI6J1IUM-r"
      }
    },
    {
      "cell_type": "code",
      "source": [
        "# Training loop\n",
        "def train_one_epoch(model, device, criterion, optimizer, train_data_loader):\n",
        "    epoch_loss = []\n",
        "    epoch_acc = []\n",
        "    start_time = time.time()\n",
        "\n",
        "    model.train()\n",
        "\n",
        "    for batch_idx, (images, labels) in enumerate(train_data_loader):\n",
        "        images = images.to(device)\n",
        "        labels = labels.to(device).long()  # Convert to integer labels\n",
        "        optimizer.zero_grad()\n",
        "\n",
        "        # Forward pass\n",
        "        preds = model(images)  # Output shape should be [batch_size, num_classes]\n",
        "\n",
        "        # Calculate loss\n",
        "        loss = criterion(preds, labels)\n",
        "        epoch_loss.append(loss.item())\n",
        "\n",
        "        # Calculate accuracy\n",
        "        predicts = torch.argmax(preds, dim=1)  # Select the class with the highest probability\n",
        "        acc = accuracy_score(labels.cpu().numpy(), predicts.cpu().numpy())\n",
        "        epoch_acc.append(acc)\n",
        "\n",
        "        # Backpropagation\n",
        "        loss.backward()\n",
        "        optimizer.step()\n",
        "\n",
        "    # Overall results\n",
        "    end_time = time.time()\n",
        "    total_time = end_time - start_time\n",
        "\n",
        "    epoch_loss = np.mean(epoch_loss)\n",
        "    epoch_acc = np.mean(epoch_acc) * 100\n",
        "\n",
        "    return epoch_loss, epoch_acc, total_time\n",
        "\n",
        "# Validation loop\n",
        "def val_one_epoch(model, device, criterion, val_data_loader, best_acc, save):\n",
        "    epoch_loss = []\n",
        "    epoch_acc = []\n",
        "    start_time = time.time()\n",
        "\n",
        "    model.eval()\n",
        "\n",
        "    with torch.no_grad():\n",
        "        for images, labels in val_data_loader:\n",
        "            images = images.to(device)\n",
        "            labels = labels.to(device).long()  # Use integer labels\n",
        "\n",
        "            # Forward pass\n",
        "            preds = model(images)\n",
        "\n",
        "            # Calculate loss\n",
        "            loss = criterion(preds, labels)\n",
        "            epoch_loss.append(loss.item())\n",
        "\n",
        "            # Calculate accuracy\n",
        "            predicts = torch.argmax(preds, dim=1)\n",
        "            acc = accuracy_score(labels.cpu().numpy(), predicts.cpu().numpy())\n",
        "            epoch_acc.append(acc)\n",
        "\n",
        "    # Overall results\n",
        "    end_time = time.time()\n",
        "    total_time = end_time - start_time\n",
        "\n",
        "    epoch_loss = np.mean(epoch_loss)\n",
        "    epoch_acc = np.mean(epoch_acc) * 100\n",
        "\n",
        "    # Save best model\n",
        "    if epoch_acc > best_acc:\n",
        "        best_acc = epoch_acc\n",
        "        torch.save(model.state_dict(), f\"{save}.pth\")\n",
        "\n",
        "    return epoch_loss, epoch_acc, total_time, best_acc\n",
        "\n",
        "# Evaluation loop\n",
        "def evaluate(model, device, model_path, test_loader, criterion):\n",
        "    try:\n",
        "        model.load_state_dict(torch.load(model_path))\n",
        "        print(\"Model weights loaded successfully.\")\n",
        "    except Exception as e:\n",
        "        print(\"Warning: Failed to load model weights. Using randomly initialized weights instead.\")\n",
        "        print(e)\n",
        "\n",
        "    model.to(device)\n",
        "    model.eval()\n",
        "\n",
        "    test_loss = []\n",
        "    test_acc = []\n",
        "\n",
        "    with torch.no_grad():\n",
        "        for images, labels in test_loader:\n",
        "            images = images.to(device)\n",
        "            labels = labels.to(device).long()\n",
        "\n",
        "            # Forward pass\n",
        "            preds = model(images)\n",
        "\n",
        "            # Calculate loss\n",
        "            loss = criterion(preds, labels)\n",
        "            test_loss.append(loss.item())\n",
        "\n",
        "            # Calculate accuracy\n",
        "            predicts = torch.argmax(preds, dim=1)\n",
        "            acc = accuracy_score(labels.cpu().numpy(), predicts.cpu().numpy())\n",
        "            test_acc.append(acc)\n",
        "\n",
        "    # Overall test results\n",
        "    avg_test_loss = np.mean(test_loss)\n",
        "    avg_test_acc = np.mean(test_acc) * 100\n",
        "\n",
        "    print(f\"Test Accuracy: {avg_test_acc:.2f}%\")\n",
        "    print(f\"Test Loss: {avg_test_loss:.4f}\")\n",
        "\n",
        "    return avg_test_loss, avg_test_acc"
      ],
      "metadata": {
        "id": "O-QXL5XfUNVx"
      },
      "execution_count": 30,
      "outputs": []
    },
    {
      "cell_type": "markdown",
      "source": [
        "# **Loop**"
      ],
      "metadata": {
        "id": "pqpT_tk4U2VF"
      }
    },
    {
      "cell_type": "code",
      "source": [
        "# hyperparameter\n",
        "criterion = nn.CrossEntropyLoss()\n",
        "optimizer = optim.Adam(filter(lambda p: p.requires_grad, model.parameters()), lr=5e-4)\n",
        "epochs = 20\n",
        "save = 'model'\n",
        "best_acc = 0.0"
      ],
      "metadata": {
        "id": "b4m8RZQdUo7L"
      },
      "execution_count": 36,
      "outputs": []
    },
    {
      "cell_type": "code",
      "source": [
        "train_losses = []\n",
        "val_losses = []\n",
        "train_accuracies = []\n",
        "val_accuracies = []\n",
        "\n",
        "output_list = []\n",
        "\n",
        "for epoch in range(epochs):\n",
        "    train_loss, train_acc, train_time = train_one_epoch(model, device, criterion, optimizer, train_loader)\n",
        "    val_loss, val_acc, val_time, best_acc = val_one_epoch(model, device, criterion, val_loader, best_acc, save)\n",
        "\n",
        "    train_losses.append(train_loss)\n",
        "    val_losses.append(val_loss)\n",
        "    train_accuracies.append(train_acc)\n",
        "    val_accuracies.append(val_acc)\n",
        "\n",
        "    total_time = train_time + val_time\n",
        "    output_str = f\"Epoch {epoch+1}/{epochs} - loss: {train_loss:.4f} - train_acc: {train_acc:.2f}% - val_loss: {val_loss:.4f} - val_acc: {val_acc:.2f}% - time: {total_time:.2f}s\"\n",
        "    output_list.append(output_str)\n",
        "    print(output_str)"
      ],
      "metadata": {
        "colab": {
          "base_uri": "https://localhost:8080/"
        },
        "id": "59wOW6SeU5LJ",
        "outputId": "d3341e77-ebb9-4c01-f100-707bf166dfcc"
      },
      "execution_count": 37,
      "outputs": [
        {
          "output_type": "stream",
          "name": "stdout",
          "text": [
            "Epoch 1/20 - loss: 0.2628 - train_acc: 91.41% - val_loss: 0.4075 - val_acc: 75.00% - time: 77.06s\n",
            "Epoch 2/20 - loss: 0.2402 - train_acc: 90.92% - val_loss: 0.4606 - val_acc: 75.00% - time: 75.55s\n",
            "Epoch 3/20 - loss: 0.2156 - train_acc: 91.65% - val_loss: 0.4959 - val_acc: 68.75% - time: 76.65s\n",
            "Epoch 4/20 - loss: 0.1950 - train_acc: 92.72% - val_loss: 0.4269 - val_acc: 75.00% - time: 76.12s\n",
            "Epoch 5/20 - loss: 0.1810 - train_acc: 93.85% - val_loss: 0.4973 - val_acc: 75.00% - time: 77.21s\n",
            "Epoch 6/20 - loss: 0.1741 - train_acc: 93.90% - val_loss: 0.4404 - val_acc: 75.00% - time: 76.14s\n",
            "Epoch 7/20 - loss: 0.1728 - train_acc: 93.95% - val_loss: 0.4856 - val_acc: 75.00% - time: 77.26s\n",
            "Epoch 8/20 - loss: 0.1593 - train_acc: 94.58% - val_loss: 0.4155 - val_acc: 81.25% - time: 78.25s\n",
            "Epoch 9/20 - loss: 0.1612 - train_acc: 94.09% - val_loss: 0.5106 - val_acc: 75.00% - time: 77.57s\n",
            "Epoch 10/20 - loss: 0.1472 - train_acc: 94.48% - val_loss: 0.3765 - val_acc: 81.25% - time: 77.50s\n",
            "Epoch 11/20 - loss: 0.1550 - train_acc: 94.09% - val_loss: 0.3719 - val_acc: 81.25% - time: 75.87s\n",
            "Epoch 12/20 - loss: 0.1443 - train_acc: 95.07% - val_loss: 0.4163 - val_acc: 81.25% - time: 77.35s\n",
            "Epoch 13/20 - loss: 0.1310 - train_acc: 95.61% - val_loss: 0.4505 - val_acc: 75.00% - time: 76.19s\n",
            "Epoch 14/20 - loss: 0.1293 - train_acc: 95.75% - val_loss: 0.5287 - val_acc: 75.00% - time: 77.10s\n",
            "Epoch 15/20 - loss: 0.1274 - train_acc: 95.65% - val_loss: 0.4075 - val_acc: 81.25% - time: 76.53s\n",
            "Epoch 16/20 - loss: 0.1223 - train_acc: 96.04% - val_loss: 0.4449 - val_acc: 75.00% - time: 77.03s\n",
            "Epoch 17/20 - loss: 0.1340 - train_acc: 95.56% - val_loss: 0.4351 - val_acc: 75.00% - time: 77.79s\n",
            "Epoch 18/20 - loss: 0.1166 - train_acc: 96.34% - val_loss: 0.4789 - val_acc: 75.00% - time: 76.53s\n",
            "Epoch 19/20 - loss: 0.1115 - train_acc: 96.24% - val_loss: 0.4073 - val_acc: 81.25% - time: 77.96s\n",
            "Epoch 20/20 - loss: 0.1268 - train_acc: 95.51% - val_loss: 0.4696 - val_acc: 75.00% - time: 76.47s\n"
          ]
        }
      ]
    },
    {
      "cell_type": "markdown",
      "source": [
        "# **Graph**"
      ],
      "metadata": {
        "id": "b0Ctm8-KVPiP"
      }
    },
    {
      "cell_type": "code",
      "source": [
        "plt.figure(figsize=(12, 5))\n",
        "\n",
        "# loss graph\n",
        "plt.subplot(1, 2, 1)\n",
        "plt.plot(train_losses, label='Train Loss')\n",
        "plt.plot(val_losses, label='Validation Loss')\n",
        "plt.title('Loss Curve')\n",
        "plt.xlabel('Epochs')\n",
        "plt.ylabel('Loss')\n",
        "plt.legend()\n",
        "\n",
        "# accuracy graph\n",
        "plt.subplot(1, 2, 2)\n",
        "plt.plot(train_accuracies, label='Train Accuracy')\n",
        "plt.plot(val_accuracies, label='Validation Accuracy')\n",
        "plt.title('Accuracy Curve')\n",
        "plt.xlabel('Epochs')\n",
        "plt.ylabel('Accuracy (%)')\n",
        "plt.legend()\n",
        "\n",
        "# show\n",
        "plt.tight_layout()\n",
        "plt.show()"
      ],
      "metadata": {
        "id": "ZIsY3om7VR9t",
        "colab": {
          "base_uri": "https://localhost:8080/",
          "height": 493
        },
        "outputId": "b7d677af-4f74-4179-9b60-a2e7ec04bd42"
      },
      "execution_count": 38,
      "outputs": [
        {
          "output_type": "display_data",
          "data": {
            "text/plain": [
              "<Figure size 1200x500 with 2 Axes>"
            ],
            "image/png": "[encoded data removed]"
          },
          "metadata": {}
        }
      ]
    },
    {
      "cell_type": "markdown",
      "source": [
        "# **Evaluate**"
      ],
      "metadata": {
        "id": "7WXoeRsnVXQD"
      }
    },
    {
      "cell_type": "code",
      "source": [
        "model_path = 'model.pth'\n",
        "avg_test_loss, avg_test_acc = evaluate(model, device, model_path, test_loader, criterion)"
      ],
      "metadata": {
        "id": "9XZ0GN_IVSoL",
        "colab": {
          "base_uri": "https://localhost:8080/"
        },
        "outputId": "b952fa46-03d7-4234-cabf-78acf44a2621"
      },
      "execution_count": 39,
      "outputs": [
        {
          "output_type": "stream",
          "name": "stderr",
          "text": [
            "<ipython-input-30-72acf586f4d8>:81: FutureWarning: You are using `torch.load` with `weights_only=False` (the current default value), which uses the default pickle module implicitly. It is possible to construct malicious pickle data which will execute arbitrary code during unpickling (See https://github.com/pytorch/pytorch/blob/main/SECURITY.md#untrusted-models for more details). In a future release, the default value for `weights_only` will be flipped to `True`. This limits the functions that could be executed during unpickling. Arbitrary objects will no longer be allowed to be loaded via this mode unless they are explicitly allowlisted by the user via `torch.serialization.add_safe_globals`. We recommend you start setting `weights_only=True` for any use case where you don't have full control of the loaded file. Please open an issue on GitHub for any issues related to this experimental feature.\n",
            "  model.load_state_dict(torch.load(model_path))\n"
          ]
        },
        {
          "output_type": "stream",
          "name": "stdout",
          "text": [
            "Model weights loaded successfully.\n",
            "Test Accuracy: 88.96%\n",
            "Test Loss: 0.2879\n"
          ]
        }
      ]
    }
  ]
}